{
 "cells": [
  {
   "cell_type": "markdown",
   "id": "d1b93cff",
   "metadata": {},
   "source": [
    "# Question 1\n",
    "a = 0\n",
    "def b():\n",
    "global a\n",
    "a = c(a)\n",
    "def c(a):\n",
    "return a + 2\n",
    "After importing the module into the interpreter, you execute:\n",
    ">>> b()\n",
    ">>> b()\n",
    ">>> b()\n",
    ">>> a\n",
    "?\n",
    "What value is displayed when the last expression (a) is evaluated? Explain your answer by indicating what happens in every executed statement."
   ]
  },
  {
   "cell_type": "code",
   "execution_count": 7,
   "id": "657a3a27",
   "metadata": {},
   "outputs": [
    {
     "data": {
      "text/plain": [
       "6"
      ]
     },
     "execution_count": 7,
     "metadata": {},
     "output_type": "execute_result"
    }
   ],
   "source": [
    "a = 0\n",
    "def b():\n",
    "    global a\n",
    "    a = c(a)\n",
    "def c(a):\n",
    "    return a + 2\n",
    "\n",
    "b()\n",
    "b()\n",
    "b()\n",
    "a"
   ]
  },
  {
   "cell_type": "markdown",
   "id": "5f438b88",
   "metadata": {},
   "source": [
    "# Explanation\n",
    "When we called b() in line 8, the flow will go to defintion of this function and it will execute lines step by step. Firstly, at line 3, a variable 'a' is called and it is initialized by return of function c(a). Now the execution will go to function c(a) and it will return value (0+2 = 2). The flow will go again go to line 4 and 'a' is initilaized with value 2. \n",
    "We again call function b() and the same process will follow but this time the value of a is already 2 so the line 6 will return (2+2) and now the value of 'a' is 4.\n",
    "We again call function b() and the same process will follow but this time the value of a is already 4 so the line 6 will return (4+2) and now the value of 'a' is 6.\n",
    "That's why the output is 6."
   ]
  },
  {
   "cell_type": "markdown",
   "id": "a06b6e9b",
   "metadata": {},
   "source": [
    "# Question 2\n",
    "Function fileLength(), given to you, takes the name of a file as input and returns the length of the file:"
   ]
  },
  {
   "cell_type": "code",
   "execution_count": 15,
   "id": "240f0351",
   "metadata": {},
   "outputs": [
    {
     "name": "stdout",
     "output_type": "stream",
     "text": [
      "123\n",
      "File  test.txt not found\n",
      "File  test.png can not be read\n"
     ]
    }
   ],
   "source": [
    "def file_length(file_name):\n",
    "    try:\n",
    "        file = open(file_name)\n",
    "        contents = file.read()\n",
    "        file.close()\n",
    "        print(len(contents))\n",
    "    except FileNotFoundError:\n",
    "        print(\"File \", file_name, \"not found\")\n",
    "    except:\n",
    "        print(\"File \", file_name, \"can not be read\")\n",
    "file_length(\"Filelength.txt\")\n",
    "file_length(\"test.txt\")\n",
    "file_length(\"test.png\")"
   ]
  },
  {
   "cell_type": "markdown",
   "id": "4adfc1dc",
   "metadata": {},
   "source": [
    "# Question 3\n",
    "Write a class named Marsupial that can be used as shown below\n",
    "Now write a class named Kangaroo as a subclass of Marsupial that inherits all the attributes of Marsupial and also:"
   ]
  },
  {
   "cell_type": "code",
   "execution_count": 55,
   "id": "5ca7f450",
   "metadata": {},
   "outputs": [
    {
     "name": "stdout",
     "output_type": "stream",
     "text": [
      "\n",
      "['doll', 'firetruck', 'kitten']\n",
      " I am a Kangaroo located at coordinates (0,0)\n",
      "['doll', 'firetruck', 'kitten']\n",
      " I am a Kangaroo located at coordinates (3,0)\n"
     ]
    }
   ],
   "source": [
    "class Marsupial:\n",
    "    lst = [] \n",
    "    \n",
    "    def put_in_pouch(self,name):        \n",
    "        self.lst.append(name)        \n",
    "        \n",
    "    def pouch_contents(self):\n",
    "        print (self.lst)\n",
    "    \n",
    "    def __init__(self):\n",
    "        print('')\n",
    "        \n",
    "        \n",
    "class Kangaroo(Marsupial):\n",
    "        lst = []\n",
    "\n",
    "    \n",
    "        def __init__(self, xcoord=0, ycoord=0):\n",
    "        #'initialize coordinates to (xcoord, ycoord)'\n",
    "            self.x = xcoord\n",
    "            self.y = ycoord\n",
    "          \n",
    "            \n",
    "        def jump(self, dx, dy):\n",
    "        #'change the x and y coordinates by dx and dy'\n",
    "            self.x += dx\n",
    "            self.y += dy\n",
    "            #print (\"I am a Kangaroo located at coordinates\",(self.x,self.y))        \n",
    "           \n",
    "        def __str__(self):\n",
    "         # By default, sign of +ve number is not displayed\n",
    "         # Using `+`, sign is always displayed\n",
    "             return f' I am a Kangaroo located at coordinates ({self.x},{self.y})'\n",
    "\n",
    "            \n",
    "m = Marsupial()\n",
    "m.put_in_pouch('doll')\n",
    "m.put_in_pouch('firetruck')\n",
    "m.put_in_pouch('kitten')\n",
    "m.pouch_contents()\n",
    "\n",
    "k = Kangaroo(0,0)\n",
    "print(k)\n",
    "k.put_in_pouch('doll')\n",
    "k.put_in_pouch('firetruck')\n",
    "k.put_in_pouch('kitten')\n",
    "k.pouch_contents()\n",
    "k.jump(1,0)\n",
    "k.jump(1,0)\n",
    "k.jump(1,0)\n",
    "print(k)\n",
    "#k.get()"
   ]
  },
  {
   "cell_type": "markdown",
   "id": "08593436",
   "metadata": {},
   "source": [
    "# Question 4 \n",
    "Write function collatz()"
   ]
  },
  {
   "cell_type": "code",
   "execution_count": 66,
   "id": "c5983388",
   "metadata": {},
   "outputs": [
    {
     "name": "stdout",
     "output_type": "stream",
     "text": [
      "1\n",
      "10\n",
      "5\n",
      "16\n",
      "8\n",
      "4\n",
      "2\n",
      "1\n"
     ]
    }
   ],
   "source": [
    "def collatz(x):\n",
    "    x = int(x)\n",
    "    \n",
    "    if x<=1:\n",
    "        print(x)\n",
    "        return x\n",
    "    \n",
    "    \n",
    "    elif x%2 == 0:\n",
    "        print (x)\n",
    "        collatz(x/2)\n",
    "    \n",
    "    else:\n",
    "        print(x)\n",
    "        collatz(3*x+1)\n",
    "\n",
    "collatz(1)\n",
    "\n",
    "collatz(10)\n",
    "    "
   ]
  },
  {
   "cell_type": "markdown",
   "id": "2723398a",
   "metadata": {},
   "source": [
    "# Question 5\n",
    "Write a recursive method binary()"
   ]
  },
  {
   "cell_type": "code",
   "execution_count": 89,
   "id": "32080035",
   "metadata": {},
   "outputs": [
    {
     "name": "stdout",
     "output_type": "stream",
     "text": [
      "1001"
     ]
    }
   ],
   "source": [
    "def binary(num):\n",
    "     \n",
    "    if (num == 0):\n",
    "        return '0'\n",
    "    \n",
    "    elif num >= 1:\n",
    "        binary(num // 2)\n",
    "    print(num % 2, end = '')\n",
    "    \n",
    "    \n",
    "    \n",
    "\n",
    "binary(0)\n",
    "\n",
    "binary(9)\n",
    "\n",
    "\n",
    "    "
   ]
  },
  {
   "cell_type": "markdown",
   "id": "754bbd59",
   "metadata": {},
   "source": [
    "# Question 9\n",
    "Suppose list words is defined as follows:"
   ]
  },
  {
   "cell_type": "code",
   "execution_count": 78,
   "id": "27cfb62d",
   "metadata": {},
   "outputs": [
    {
     "name": "stdout",
     "output_type": "stream",
     "text": [
      "['THE', 'QUICK', 'BROWN', 'FOX', 'JUMPS', 'OVER', 'THE', 'LAZY', 'DOG']\n",
      "['the', 'quick', 'brown', 'fox', 'jumps', 'over', 'the', 'lazy', 'dog']\n",
      "[3, 5, 5, 3, 5, 4, 3, 4, 3]\n",
      "[['THE', 'the', 3], ['QUICK', 'quick', 5], ['BROWN', 'brown', 5], ['FOX', 'fox', 3], ['JUMPS', 'jumps', 5], ['OVER', 'over', 4], ['THE', 'the', 3], ['LAZY', 'lazy', 4], ['DOG', 'dog', 3]]\n",
      "['the', 'quick', 'brown', 'fox', 'jumps', 'over', 'the', 'lazy', 'dog']\n"
     ]
    }
   ],
   "source": [
    "words = ['The', 'quick', 'brown', 'fox', 'jumps', 'over', 'the', 'lazy', 'dog']\n",
    "firstList = []\n",
    "secondList = []\n",
    "thirdList = []\n",
    "forthList = []\n",
    "fifthList = []\n",
    "\n",
    "for i in range(len(words)):\n",
    "    firstList.append(words[i].upper())\n",
    "print(firstList)\n",
    "\n",
    "for i in range(len(words)):\n",
    "    secondList.append(words[i].lower())\n",
    "print(secondList)\n",
    "\n",
    "for i in range(len(words)):\n",
    "    thirdList.append(len(words[i]))\n",
    "print(thirdList)\n",
    "\n",
    "for i in range(len(words)):\n",
    "    forthList.append([words[i].upper(),words[i].lower(),len(words[i])])\n",
    "print(forthList)\n",
    "\n",
    "for i in range(len(words)):\n",
    "    if len(words) >=4:\n",
    "        fifthList.append(words[i].lower())\n",
    "print(fifthList)\n"
   ]
  },
  {
   "cell_type": "markdown",
   "id": "8aaabd25",
   "metadata": {},
   "source": [
    "# Question 8\n",
    "Write SQL queries on the below database table that return:"
   ]
  },
  {
   "cell_type": "markdown",
   "id": "1901761a",
   "metadata": {},
   "source": [
    "Calling This table as Weather\n",
    "\n",
    "Select Temperature from Weather;\n",
    "\n",
    "Select distinct city from Weather;\n",
    "\n",
    "Select * from Weather where country = 'India';\n",
    "\n",
    "Select * from Weather where season = 'Fall';\n",
    "\n",
    "Select City, Country, Season from Weather group by City, Country, Season having avg(rainfall) between 200 and 400;\n",
    "\n",
    "Select City, Country from Weather group by City, Country having avg(temperature) > 20 order by temperature;\n",
    "\n",
    "Select City, Sum(Rainfall) from Weather where city = 'Cairo' group by city ;\n",
    "\n",
    "Select Season, Sum(Rainfall) from Weather group by Season ;\n"
   ]
  }
 ],
 "metadata": {
  "kernelspec": {
   "display_name": "Python 3",
   "language": "python",
   "name": "python3"
  },
  "language_info": {
   "codemirror_mode": {
    "name": "ipython",
    "version": 3
   },
   "file_extension": ".py",
   "mimetype": "text/x-python",
   "name": "python",
   "nbconvert_exporter": "python",
   "pygments_lexer": "ipython3",
   "version": "3.8.8"
  }
 },
 "nbformat": 4,
 "nbformat_minor": 5
}
